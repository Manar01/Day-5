{
 "cells": [
  {
   "cell_type": "markdown",
   "metadata": {
    "id": "kZXiW0-J0-2x"
   },
   "source": [
    "# Python_Groups_Hands-on\n"
   ]
  },
  {
   "cell_type": "markdown",
   "metadata": {
    "id": "I05A6_S80-2y"
   },
   "source": [
    "## Project: Library Management System\n",
    "### Description:\n",
    "- Develop a basic Library Management System (LMS) that allows users to manage book records, including adding, updating, deleting, and displaying book information. The system should also provide basic statistical analysis.\n",
    "\n",
    "### System requirements:\n",
    "\n",
    "#### Data Structure Design:\n",
    "\n",
    "  - Define data structures using lists, tuples, dictionaries, and sets to store book information (e.g., book ID, title, author, year, genres).\n",
    "\n",
    "#### Basic Operations:\n",
    "\n",
    "- Implement functions to add, update, delete, and display book records.\n",
    "- Ensure proper type conversion and validation of inputs.\n",
    "\n",
    "#### Statistical Analysis:\n",
    "\n",
    "- Write functions to calculate and display the total number of books, the average publication year, and the most common genre.\n",
    "- Use list comprehensions and built-in functions (sort, len, zip, range) for calculations.\n",
    "\n",
    "#### Advanced Features:\n",
    "\n",
    "- Implement search functionality to find books by title or author using lambda functions.\n",
    "- Provide sorting options for book records based on different criteria (e.g., title, year).\n",
    "\n",
    "\n",
    "#### Exception Handling:\n",
    "\n",
    "- Handle potential errors (e.g., invalid input) using try-except blocks."
   ]
  },
  {
   "cell_type": "markdown",
   "metadata": {
    "id": "rXuH9y0_D76o"
   },
   "source": [
    "#### Q1: Using the following table, create a function to add these books to your library:\n",
    "\n",
    "\n",
    "\n",
    "| Book ID | Title                            | Author               | Year | Genres                              |\n",
    "|---------|----------------------------------|----------------------|------|-------------------------------------|\n",
    "| 1       | Harry Potter and the Sorcerer's Stone | J.K. Rowling         | 1997 | Fantasy, Young Adult                |\n",
    "| 2       | To Kill a Mockingbird             | Harper Lee           | 1960 | Fiction, Classics                   |\n",
    "| 3       | The Great Gatsby                  | F. Scott Fitzgerald  | 1925 | Fiction, Classics                   |\n",
    "| 4       | 1984                              | George Orwell        | 1949 | Fiction, Dystopian                  |\n",
    "| 5       | The Catcher in the Rye            | J.D. Salinger        | 1951 | Fiction, Classics                   |\n",
    "| 6       | Pride and Prejudice               | Jane Austen          | 1813 | Fiction, Romance, Classics          |\n",
    "| 7       | The Hobbit                        | J.R.R. Tolkien       | 1937 | Fantasy, Adventure                  |\n",
    "| 8       | The Hunger Games                  | Suzanne Collins      | 2008 | Science Fiction, Dystopian, Young Adult |\n",
    "| 9       | The Da Vinci Code                 | Dan Brown            | 2003 | Mystery, Thriller                   |\n",
    "| 10      | The Chronicles of Narnia          | C.S. Lewis           | 1950 | Fantasy, Children's Literature      |\n",
    "| 11      | Gone with the Wind                | Margaret Mitchell    | 1936 | Historical Fiction, Romance         |\n",
    "| 12      | Sapiens: A Brief History of Humankind | Yuval Noah Harari   | 2011 | Nonfiction, History, Science        |\n",
    "| 13      | The Road                          | Cormac McCarthy      | 2006 | Fiction, Post-Apocalyptic           |\n",
    "| 14      | The Girl with the Dragon Tattoo   | Stieg Larsson        | 2005 | Mystery, Thriller                   |\n",
    "| 15      | The Alchemist                     | Paulo Coelho         | 1988 | Fiction, Inspirational              |\n"
   ]
  },
  {
   "cell_type": "markdown",
   "metadata": {},
   "source": [
    "### Expected output:\n",
    "~~~~~~~~~~~~~~~~~~~~~~~~~\n",
    "{1: {'title': 'title',\n",
    "  'author': 'author',\n",
    "  'year': 2025,\n",
    "  'genres': ['genre 1', 'genre 2', 'genre 3']}}\n",
    "  ~~~~~~~~~~~~~~~~~~~~~~~~~"
   ]
  },
  {
   "cell_type": "code",
   "execution_count": 2,
   "metadata": {
    "id": "BzV_B_g20-2z"
   },
   "outputs": [
    {
     "name": "stdout",
     "output_type": "stream",
     "text": [
      "{1: {'title': \"Harry Potter and the Sorcerer's Stone\", 'author': 'J.K. Rowling', 'year': 1997, 'genres': ['Fantasy', 'Young Adult']}, 2: {'title': 'To Kill a Mockingbird', 'author': 'Harper Lee', 'year': 1960, 'genres': ['Fiction', 'Classics']}, 3: {'title': 'The Great Gatsby', 'author': 'F. Scott Fitzgerald', 'year': 1925, 'genres': ['Fiction', 'Classics']}, 4: {'title': '1984', 'author': 'George Orwell', 'year': 1949, 'genres': ['Fiction', 'Dystopian']}, 5: {'title': 'The Catcher in the Rye', 'author': 'J.D. Salinger', 'year': 1951, 'genres': ['Fiction', 'Classics']}, 6: {'title': 'Pride and Prejudice', 'author': 'Jane Austen', 'year': 1813, 'genres': ['Fiction', 'Romance', 'Classics']}, 7: {'title': 'The Hobbit', 'author': 'J.R.R. Tolkien', 'year': 1937, 'genres': ['Fantasy', 'Adventure']}, 8: {'title': 'The Hunger Games', 'author': 'Suzanne Collins', 'year': 2008, 'genres': ['Science Fiction', 'Dystopian', 'Young Adult']}, 9: {'title': 'The Da Vinci Code', 'author': 'Dan Brown', 'year': 2003, 'genres': ['Mystery', 'Thriller']}, 10: {'title': 'The Chronicles of Narnia', 'author': 'C.S. Lewis', 'year': 1950, 'genres': ['Fantasy', \"Children's Literature\"]}, 11: {'title': 'Gone with the Wind', 'author': 'Margaret Mitchell', 'year': 1936, 'genres': ['Historical Fiction', 'Romance']}, 12: {'title': 'Sapiens: A Brief History of Humankind', 'author': 'Yuval Noah Harari', 'year': 2011, 'genres': ['Nonfiction', 'History', 'Science']}, 13: {'title': 'The Road', 'author': 'Cormac McCarthy', 'year': 2006, 'genres': ['Fiction', 'Post-Apocalyptic']}, 14: {'title': 'The Girl with the Dragon Tattoo', 'author': 'Stieg Larsson', 'year': 2005, 'genres': ['Mystery', 'Thriller']}, 15: {'title': 'The Alchemist', 'author': 'Paulo Coelho', 'year': 1988, 'genres': ['Fiction', 'Inspirational']}}\n"
     ]
    }
   ],
   "source": [
    "books = {}\n",
    "\n",
    "def add_book(id, title, author, year, genres):\n",
    "    books[id] = {\n",
    "        \"title\": title,\n",
    "        \"author\": author,\n",
    "        \"year\": year,\n",
    "        \"genres\": genres  \n",
    "    }\n",
    "\n",
    "add_book(1, \"Harry Potter and the Sorcerer's Stone\", \"J.K. Rowling\", 1997, [\"Fantasy\", \"Young Adult\"])\n",
    "add_book(2, \"To Kill a Mockingbird\", \"Harper Lee\", 1960, [\"Fiction\", \"Classics\"])\n",
    "add_book(3, \"The Great Gatsby\", \"F. Scott Fitzgerald\", 1925, [\"Fiction\", \"Classics\"])\n",
    "add_book(4, \"1984\", \"George Orwell\", 1949, [\"Fiction\", \"Dystopian\"])\n",
    "add_book(5, \"The Catcher in the Rye\", \"J.D. Salinger\", 1951, [\"Fiction\", \"Classics\"])\n",
    "add_book(6, \"Pride and Prejudice\", \"Jane Austen\", 1813, [\"Fiction\", \"Romance\", \"Classics\"])\n",
    "add_book(7, \"The Hobbit\", \"J.R.R. Tolkien\", 1937, [\"Fantasy\", \"Adventure\"])\n",
    "add_book(8, \"The Hunger Games\", \"Suzanne Collins\", 2008, [\"Science Fiction\", \"Dystopian\", \"Young Adult\"])\n",
    "add_book(9, \"The Da Vinci Code\", \"Dan Brown\", 2003, [\"Mystery\", \"Thriller\"])\n",
    "add_book(10, \"The Chronicles of Narnia\", \"C.S. Lewis\", 1950, [\"Fantasy\", \"Children's Literature\"])\n",
    "add_book(11, \"Gone with the Wind\", \"Margaret Mitchell\", 1936, [\"Historical Fiction\", \"Romance\"])\n",
    "add_book(12, \"Sapiens: A Brief History of Humankind\", \"Yuval Noah Harari\", 2011, [\"Nonfiction\", \"History\", \"Science\"])\n",
    "add_book(13, \"The Road\", \"Cormac McCarthy\", 2006, [\"Fiction\", \"Post-Apocalyptic\"])\n",
    "add_book(14, \"The Girl with the Dragon Tattoo\", \"Stieg Larsson\", 2005, [\"Mystery\", \"Thriller\"])\n",
    "add_book(15, \"The Alchemist\", \"Paulo Coelho\", 1988, [\"Fiction\", \"Inspirational\"])\n",
    "print(books)\n"
   ]
  },
  {
   "cell_type": "markdown",
   "metadata": {
    "id": "kR5bvgOsF3oJ"
   },
   "source": [
    "#### Q2: Create a function that updates books exsisted in your library and test it.\n",
    "- **Note**: If the user entered wrong book ID it should print \"Book with ID 'num' does not exist."
   ]
  },
  {
   "cell_type": "markdown",
   "metadata": {},
   "source": [
    "### Expected output:\n",
    "~~~~~~~~~~~~~~~~~~~~~~~~~\n",
    "Book with ID 16 does not exist.\n",
    "\n",
    "Book with ID 1 info updated.\n",
    "~~~~~~~~~~~~~~~~~~~~~~~~~"
   ]
  },
  {
   "cell_type": "code",
   "execution_count": 3,
   "metadata": {
    "id": "U60cFkbUUYmj"
   },
   "outputs": [
    {
     "name": "stdout",
     "output_type": "stream",
     "text": [
      "Book with ID does not exist.\n",
      "Book with 1 info updated\n"
     ]
    }
   ],
   "source": [
    "def update_book(id, books, title=None, author=None, genres=None):\n",
    "    if id in books:\n",
    "        if title:\n",
    "            books[id]['title'] = title\n",
    "        if author:\n",
    "            books[id]['author'] = author\n",
    "        if genres:\n",
    "            books[id]['genres'] = genres\n",
    "        print(f\"Book with {id} info updated\")\n",
    "        \n",
    "    else:\n",
    "        print(\"Book with ID does not exist.\")\n",
    "    \n",
    "\n",
    "library = {\n",
    "    1: {\"title\": \"The Silmarillion\", \"author\": \"J.R.R. Tolkien\"},\n",
    "    2: {\"title\": \"Harry Potter and the Philosopher's Stone\", \"year\": 1998}\n",
    "}\n",
    "\n",
    "update_book(16, books, title=\"The Silmarillion\", author=\"J.R.R. Tolkien\")\n",
    "update_book(1, books, title=\"The Silmarillion\", author=\"J.R.R. Tolkien\")"
   ]
  },
  {
   "cell_type": "markdown",
   "metadata": {
    "id": "ME3j_m-eLhyH"
   },
   "source": [
    "#### Q3: Create a function to delete books from your library and test it."
   ]
  },
  {
   "cell_type": "markdown",
   "metadata": {},
   "source": [
    "### Expected output:\n",
    "~~~~~~~~~~~~~~~~~~~~~~~~~\n",
    "Book with ID 16 does not exist.\n",
    "\n",
    "Book with ID 1 Deleted.\n",
    "~~~~~~~~~~~~~~~~~~~~~~~~~\n"
   ]
  },
  {
   "cell_type": "code",
   "execution_count": 4,
   "metadata": {
    "id": "JlGIx-gJUadK"
   },
   "outputs": [
    {
     "name": "stdout",
     "output_type": "stream",
     "text": [
      "Book with ID 16 dose not exist\n",
      "book wich id 1  deleted\n"
     ]
    }
   ],
   "source": [
    "\n",
    "def delete_book(id):\n",
    "   if id in books:\n",
    "     del books[id]\n",
    "     print(f\"book wich id {id}  deleted\")\n",
    "   else: \n",
    "      print(f\"Book with ID {id} dose not exist\")\n",
    "\n",
    "    \n",
    "delete_book(16)\n",
    "delete_book(1)\n"
   ]
  },
  {
   "cell_type": "markdown",
   "metadata": {
    "id": "MIamnChwNgFr"
   },
   "source": [
    "#### Q4: Create a function that displays books information from your library and test it."
   ]
  },
  {
   "cell_type": "markdown",
   "metadata": {},
   "source": [
    "### Expected output:\n",
    "~~~~~~~~~~~~~~~~~~~~~~~~~\n",
    "ID: 1, Title: title, Author: author, Year: 2025, Genres: ['genre 1', 'genre 2', 'genre 3']\n",
    "\n",
    "ID: 2, Title: title2, Author: author2, Year: 2010, Genres: ['genre 12', 'genre 22', 'genre 32']\n",
    "~~~~~~~~~~~~~~~~~~~~~~~~~"
   ]
  },
  {
   "cell_type": "code",
   "execution_count": 5,
   "metadata": {
    "id": "xFNIK3YvUbz5"
   },
   "outputs": [
    {
     "name": "stdout",
     "output_type": "stream",
     "text": [
      "Book with ID 1 not found.\n",
      "ID: 2, Title: To Kill a Mockingbird, Author: Harper Lee, Year: 1960, Genres: Fiction, Classics\n"
     ]
    }
   ],
   "source": [
    "def display_library(id):\n",
    "    if id in books:\n",
    "        book = books[id]\n",
    "        print(f\"ID: {id}, Title: {book['title']}, Author: {book['author']}, Year: {book['year']}, Genres: {', '.join(book['genres'])}\")\n",
    "    else:\n",
    "        print(f\"Book with ID {id} not found.\")\n",
    "\n",
    "display_library(1)\n",
    "display_library(2)"
   ]
  },
  {
   "cell_type": "markdown",
   "metadata": {
    "id": "OvfdKdBqNt22"
   },
   "source": [
    "#### Q5: Create functions to do the following: calculates and display the total number of books, the average publication year, and the most common genre. and test it."
   ]
  },
  {
   "cell_type": "markdown",
   "metadata": {},
   "source": [
    "### Expected output:\n",
    "~~~~~~~~~~~~~~~~~~~~~~~~~\n",
    "2\n",
    "\n",
    "2017.5\n",
    "\n",
    "'genre 2'\n",
    "~~~~~~~~~~~~~~~~~~~~~~~~~"
   ]
  },
  {
   "cell_type": "code",
   "execution_count": 6,
   "metadata": {
    "id": "mWg5eHIWUcsU"
   },
   "outputs": [
    {
     "name": "stdout",
     "output_type": "stream",
     "text": [
      "(14, 'Fiction', 1960.142857142857)\n"
     ]
    }
   ],
   "source": [
    "\n",
    "def describe():\n",
    "    sum = len(books)\n",
    "    yers = []\n",
    "    yers_sum = 0\n",
    "    for b in books:\n",
    "        yers.append(books[b]['year'])\n",
    "        yers_sum +=int(books[b]['year'])\n",
    "    avg = yers_sum / len(yers)\n",
    "    genners = []\n",
    "    for book in books:\n",
    "        genners.append(books[book]['genres'])\n",
    "    flattend_list = [item for sub in genners for item in sub]\n",
    "    most_g = max(set(flattend_list), key=flattend_list.count)\n",
    "    return sum, most_g,avg\n",
    "print(describe())\n",
    "\n"
   ]
  },
  {
   "cell_type": "markdown",
   "metadata": {
    "id": "IuVLtf7dQaUW"
   },
   "source": [
    "#### Q6: Create 2 functions to search for books by the title and the author from your library and test it."
   ]
  },
  {
   "cell_type": "markdown",
   "metadata": {},
   "source": [
    "### Expected output:\n",
    "\n",
    "searched for title2 and author2:\n",
    "\n",
    "~~~~~~~~~~~~~~~~~~~~~~~~~\n",
    "{2: {'title': 'title2', 'author': 'author2', 'year': 2010, 'genres': ['genre 12', 'genre 22', 'genre 32']},\n",
    "\n",
    "\n",
    "{2: {'title': 'title2', 'author': 'author2', 'year': 2010, 'genres': ['genre 12', 'genre 22', 'genre 32']},\n",
    "~~~~~~~~~~~~~~~~~~~~~~~~~\n"
   ]
  },
  {
   "cell_type": "code",
   "execution_count": 7,
   "metadata": {
    "id": "7LnwRJLCUe3p"
   },
   "outputs": [
    {
     "name": "stdout",
     "output_type": "stream",
     "text": [
      "{2: {'title': 'To Kill a Mockingbird', 'author': 'Harper Lee', 'year': 1960, 'genres': ['Fiction', 'Classics']}}\n"
     ]
    }
   ],
   "source": [
    "def search_by_title(title):\n",
    "    results = {id: book for id, book in books.items() if book[\"title\"] == title}\n",
    "    return results \n",
    "print( search_by_title(\"To Kill a Mockingbird\"))\n"
   ]
  },
  {
   "cell_type": "code",
   "execution_count": 8,
   "metadata": {},
   "outputs": [
    {
     "name": "stdout",
     "output_type": "stream",
     "text": [
      "{2: {'title': 'To Kill a Mockingbird', 'author': 'Harper Lee', 'year': 1960, 'genres': ['Fiction', 'Classics']}}\n"
     ]
    }
   ],
   "source": [
    "def search_by_author(author):\n",
    "    results = {id: book for id, book in books.items() if book[\"author\"] == author}\n",
    "    return results \n",
    "\n",
    "print(search_by_author (\"Harper Lee\"))"
   ]
  },
  {
   "cell_type": "markdown",
   "metadata": {
    "id": "fAu2ozKBQzJu"
   },
   "source": [
    "#### Q7: Create 2 functions to sort the books by the title and the year from your library and test it."
   ]
  },
  {
   "cell_type": "markdown",
   "metadata": {},
   "source": [
    "**Hint**: Use lambda function\n",
    "\n",
    "\n"
   ]
  },
  {
   "cell_type": "code",
   "execution_count": 9,
   "metadata": {
    "id": "X4PyuHTMUgHl"
   },
   "outputs": [
    {
     "name": "stdout",
     "output_type": "stream",
     "text": [
      "{4: {'title': '1984', 'author': 'George Orwell', 'year': 1949, 'genres': ['Fiction', 'Dystopian']}, 11: {'title': 'Gone with the Wind', 'author': 'Margaret Mitchell', 'year': 1936, 'genres': ['Historical Fiction', 'Romance']}, 6: {'title': 'Pride and Prejudice', 'author': 'Jane Austen', 'year': 1813, 'genres': ['Fiction', 'Romance', 'Classics']}, 12: {'title': 'Sapiens: A Brief History of Humankind', 'author': 'Yuval Noah Harari', 'year': 2011, 'genres': ['Nonfiction', 'History', 'Science']}, 15: {'title': 'The Alchemist', 'author': 'Paulo Coelho', 'year': 1988, 'genres': ['Fiction', 'Inspirational']}, 5: {'title': 'The Catcher in the Rye', 'author': 'J.D. Salinger', 'year': 1951, 'genres': ['Fiction', 'Classics']}, 10: {'title': 'The Chronicles of Narnia', 'author': 'C.S. Lewis', 'year': 1950, 'genres': ['Fantasy', \"Children's Literature\"]}, 9: {'title': 'The Da Vinci Code', 'author': 'Dan Brown', 'year': 2003, 'genres': ['Mystery', 'Thriller']}, 14: {'title': 'The Girl with the Dragon Tattoo', 'author': 'Stieg Larsson', 'year': 2005, 'genres': ['Mystery', 'Thriller']}, 3: {'title': 'The Great Gatsby', 'author': 'F. Scott Fitzgerald', 'year': 1925, 'genres': ['Fiction', 'Classics']}, 7: {'title': 'The Hobbit', 'author': 'J.R.R. Tolkien', 'year': 1937, 'genres': ['Fantasy', 'Adventure']}, 8: {'title': 'The Hunger Games', 'author': 'Suzanne Collins', 'year': 2008, 'genres': ['Science Fiction', 'Dystopian', 'Young Adult']}, 13: {'title': 'The Road', 'author': 'Cormac McCarthy', 'year': 2006, 'genres': ['Fiction', 'Post-Apocalyptic']}, 2: {'title': 'To Kill a Mockingbird', 'author': 'Harper Lee', 'year': 1960, 'genres': ['Fiction', 'Classics']}}\n"
     ]
    }
   ],
   "source": [
    "def sort_by_title():\n",
    "    return {k: books[k] for k in sorted(books, key=lambda k: books[k][\"title\"])}\n",
    "\n",
    "print(sort_by_title())\n"
   ]
  },
  {
   "cell_type": "code",
   "execution_count": 10,
   "metadata": {},
   "outputs": [
    {
     "name": "stdout",
     "output_type": "stream",
     "text": [
      "{6: {'title': 'Pride and Prejudice', 'author': 'Jane Austen', 'year': 1813, 'genres': ['Fiction', 'Romance', 'Classics']}, 3: {'title': 'The Great Gatsby', 'author': 'F. Scott Fitzgerald', 'year': 1925, 'genres': ['Fiction', 'Classics']}, 11: {'title': 'Gone with the Wind', 'author': 'Margaret Mitchell', 'year': 1936, 'genres': ['Historical Fiction', 'Romance']}, 7: {'title': 'The Hobbit', 'author': 'J.R.R. Tolkien', 'year': 1937, 'genres': ['Fantasy', 'Adventure']}, 4: {'title': '1984', 'author': 'George Orwell', 'year': 1949, 'genres': ['Fiction', 'Dystopian']}, 10: {'title': 'The Chronicles of Narnia', 'author': 'C.S. Lewis', 'year': 1950, 'genres': ['Fantasy', \"Children's Literature\"]}, 5: {'title': 'The Catcher in the Rye', 'author': 'J.D. Salinger', 'year': 1951, 'genres': ['Fiction', 'Classics']}, 2: {'title': 'To Kill a Mockingbird', 'author': 'Harper Lee', 'year': 1960, 'genres': ['Fiction', 'Classics']}, 15: {'title': 'The Alchemist', 'author': 'Paulo Coelho', 'year': 1988, 'genres': ['Fiction', 'Inspirational']}, 9: {'title': 'The Da Vinci Code', 'author': 'Dan Brown', 'year': 2003, 'genres': ['Mystery', 'Thriller']}, 14: {'title': 'The Girl with the Dragon Tattoo', 'author': 'Stieg Larsson', 'year': 2005, 'genres': ['Mystery', 'Thriller']}, 13: {'title': 'The Road', 'author': 'Cormac McCarthy', 'year': 2006, 'genres': ['Fiction', 'Post-Apocalyptic']}, 8: {'title': 'The Hunger Games', 'author': 'Suzanne Collins', 'year': 2008, 'genres': ['Science Fiction', 'Dystopian', 'Young Adult']}, 12: {'title': 'Sapiens: A Brief History of Humankind', 'author': 'Yuval Noah Harari', 'year': 2011, 'genres': ['Nonfiction', 'History', 'Science']}}\n"
     ]
    }
   ],
   "source": [
    "def sort_by_year():\n",
    "    return {k: books[k] for k in sorted(books, key=lambda k: books[k][\"year\"])}\n",
    "\n",
    "print(sort_by_year())\n"
   ]
  },
  {
   "cell_type": "markdown",
   "metadata": {
    "id": "KiaFO8rdiv4u"
   },
   "source": [
    "#### Q8: Create a function to bulk update genres(Replace a specific genre with a new genre) of books using list comprehension. and test it."
   ]
  },
  {
   "cell_type": "markdown",
   "metadata": {},
   "source": [
    "### Expected output:\n",
    "\n",
    "```python\n",
    "bulk_update_genres(\"genre 22\", \"Drama\")\n",
    "```\n",
    "~~~~~~~~~~~\n",
    "- Before:\n",
    "{2: {'title': 'title2', 'author': 'author2', 'year': 2010, 'genres': ['genre 12', 'genre 22', 'genre 32']},\n",
    "- After:\n",
    "{2: {'title': 'title2', 'author': 'author2', 'year': 2010, 'genres': ['genre 12', 'Drama', 'genre 32']},\n",
    "\n",
    "\n"
   ]
  },
  {
   "cell_type": "code",
   "execution_count": 11,
   "metadata": {
    "id": "AbvXyE96UhVt"
   },
   "outputs": [
    {
     "name": "stdout",
     "output_type": "stream",
     "text": [
      "{2: {'title': 'To Kill a Mockingbird', 'author': 'Harper Lee', 'year': 1960, 'genres': ['Drama', 'Classics']}, 3: {'title': 'The Great Gatsby', 'author': 'F. Scott Fitzgerald', 'year': 1925, 'genres': ['Drama', 'Classics']}, 4: {'title': '1984', 'author': 'George Orwell', 'year': 1949, 'genres': ['Drama', 'Dystopian']}, 5: {'title': 'The Catcher in the Rye', 'author': 'J.D. Salinger', 'year': 1951, 'genres': ['Drama', 'Classics']}, 6: {'title': 'Pride and Prejudice', 'author': 'Jane Austen', 'year': 1813, 'genres': ['Drama', 'Romance', 'Classics']}, 7: {'title': 'The Hobbit', 'author': 'J.R.R. Tolkien', 'year': 1937, 'genres': ['Fantasy', 'Adventure']}, 8: {'title': 'The Hunger Games', 'author': 'Suzanne Collins', 'year': 2008, 'genres': ['Science Fiction', 'Dystopian', 'Young Adult']}, 9: {'title': 'The Da Vinci Code', 'author': 'Dan Brown', 'year': 2003, 'genres': ['Mystery', 'Thriller']}, 10: {'title': 'The Chronicles of Narnia', 'author': 'C.S. Lewis', 'year': 1950, 'genres': ['Fantasy', \"Children's Literature\"]}, 11: {'title': 'Gone with the Wind', 'author': 'Margaret Mitchell', 'year': 1936, 'genres': ['Historical Fiction', 'Romance']}, 12: {'title': 'Sapiens: A Brief History of Humankind', 'author': 'Yuval Noah Harari', 'year': 2011, 'genres': ['Nonfiction', 'History', 'Science']}, 13: {'title': 'The Road', 'author': 'Cormac McCarthy', 'year': 2006, 'genres': ['Drama', 'Post-Apocalyptic']}, 14: {'title': 'The Girl with the Dragon Tattoo', 'author': 'Stieg Larsson', 'year': 2005, 'genres': ['Mystery', 'Thriller']}, 15: {'title': 'The Alchemist', 'author': 'Paulo Coelho', 'year': 1988, 'genres': ['Drama', 'Inspirational']}}\n"
     ]
    }
   ],
   "source": [
    "def bulk_update_genres (old , new ) :\n",
    "    for i in books.values():\n",
    "        i[\"genres\"] = [new if genre == old else genre for genre in i[\"genres\"]]\n",
    "\n",
    "bulk_update_genres('Fiction', \"Drama\")\n",
    "\n",
    "print(books)"
   ]
  },
  {
   "cell_type": "markdown",
   "metadata": {
    "id": "ZWkmOUNgi6V_"
   },
   "source": [
    "#### Q9: Implement a function to generate a report summarizing the library's statistics, including the total number of books, the number of books by each author, the number of books in each genre, and the oldest and newest books. and test it."
   ]
  },
  {
   "cell_type": "code",
   "execution_count": 12,
   "metadata": {
    "id": "Okjlb9pTUloe"
   },
   "outputs": [
    {
     "name": "stdout",
     "output_type": "stream",
     "text": [
      "\n",
      "Library Report\n",
      "Total Books: 14\n",
      "\n",
      "Books by Author:\n",
      "- Harper Lee: 1\n",
      "- F. Scott Fitzgerald: 1\n",
      "- George Orwell: 1\n",
      "- J.D. Salinger: 1\n",
      "- Jane Austen: 1\n",
      "- J.R.R. Tolkien: 1\n",
      "- Suzanne Collins: 1\n",
      "- Dan Brown: 1\n",
      "- C.S. Lewis: 1\n",
      "- Margaret Mitchell: 1\n",
      "- Yuval Noah Harari: 1\n",
      "- Cormac McCarthy: 1\n",
      "- Stieg Larsson: 1\n",
      "- Paulo Coelho: 1\n",
      "\n",
      "Books by Genre:\n",
      "- Drama: 7\n",
      "- Classics: 4\n",
      "- Dystopian: 2\n",
      "- Romance: 2\n",
      "- Fantasy: 2\n",
      "- Adventure: 1\n",
      "- Science Fiction: 1\n",
      "- Young Adult: 1\n",
      "- Mystery: 2\n",
      "- Thriller: 2\n",
      "- Children's Literature: 1\n",
      "- Historical Fiction: 1\n",
      "- Nonfiction: 1\n",
      "- History: 1\n",
      "- Science: 1\n",
      "- Post-Apocalyptic: 1\n",
      "- Inspirational: 1\n",
      "\n",
      "Oldest Book:\n",
      "ID: 6, Title: Pride and Prejudice, Year: 1813\n",
      "\n",
      "Newest Book:\n",
      "ID: 12, Title: Sapiens: A Brief History of Humankind, Year: 2011\n"
     ]
    }
   ],
   "source": [
    "def generate_library_report():\n",
    "    if not books:\n",
    "        print(\"The library is empty.\\n\")\n",
    "        return\n",
    "\n",
    "    total_books = len(books)\n",
    "\n",
    "    books_by_author = {}\n",
    "    for book in books.values():\n",
    "        author = book['author']\n",
    "        books_by_author[author] = books_by_author.get(author, 0) + 1\n",
    "\n",
    "    books_by_genre = {}\n",
    "    for book in books.values():\n",
    "        for genre in book['genres']:\n",
    "            books_by_genre[genre] = books_by_genre.get(genre, 0) + 1\n",
    "\n",
    "    oldest_book = min(books.items(), key=lambda item: item[1]['year'])\n",
    "    newest_book = max(books.items(), key=lambda item: item[1]['year'])\n",
    "\n",
    "    print(\"\\nLibrary Report\")\n",
    "    print(f\"Total Books: {total_books}\\n\")\n",
    "\n",
    "    print(\"Books by Author:\")\n",
    "    for author, count in books_by_author.items():\n",
    "        print(f\"- {author}: {count}\")\n",
    "\n",
    "    print(\"\\nBooks by Genre:\")\n",
    "    for genre, count in books_by_genre.items():\n",
    "        print(f\"- {genre}: {count}\")\n",
    "\n",
    "    print(\"\\nOldest Book:\")\n",
    "    print(f\"ID: {oldest_book[0]}, Title: {oldest_book[1]['title']}, Year: {oldest_book[1]['year']}\")\n",
    "\n",
    "    print(\"\\nNewest Book:\")\n",
    "    print(f\"ID: {newest_book[0]}, Title: {newest_book[1]['title']}, Year: {newest_book[1]['year']}\")\n",
    "generate_library_report()"
   ]
  }
 ],
 "metadata": {
  "colab": {
   "provenance": []
  },
  "kernelspec": {
   "display_name": "base",
   "language": "python",
   "name": "python3"
  },
  "language_info": {
   "codemirror_mode": {
    "name": "ipython",
    "version": 3
   },
   "file_extension": ".py",
   "mimetype": "text/x-python",
   "name": "python",
   "nbconvert_exporter": "python",
   "pygments_lexer": "ipython3",
   "version": "3.9.7"
  }
 },
 "nbformat": 4,
 "nbformat_minor": 0
}
