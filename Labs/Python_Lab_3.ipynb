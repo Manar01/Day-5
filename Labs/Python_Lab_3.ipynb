{
 "cells": [
  {
   "cell_type": "markdown",
   "metadata": {},
   "source": [
    "# Python_Lab_3\n"
   ]
  },
  {
   "cell_type": "markdown",
   "metadata": {},
   "source": [
    "### Task 1\n",
    "- Write a function named **'create_student_records'** that takes a list of tuples. Each tuple contains a student's name and their scores in three subjects. The function should return a list of dictionaries, where each dictionary represents a student with keys: name, subject1, subject2, subject3. Use list comprehension to create the list of dictionaries."
   ]
  },
  {
   "cell_type": "code",
   "execution_count": 17,
   "metadata": {},
   "outputs": [
    {
     "name": "stdout",
     "output_type": "stream",
     "text": [
      "[{'name': 'Leena', 'subject1': 66, 'subject2': 73, 'subject3': 90}, {'name': 'Nora', 'subject1': 90, 'subject2': 88, 'subject3': 100}, {'name': 'Lana', 'subject1': 80, 'subject2': 90, 'subject3': 89}]\n"
     ]
    }
   ],
   "source": [
    "def create_student_records(tuples_list):\n",
    "    return [{'name': name, 'subject1': score1, 'subject2': score2, 'subject3': score3}\n",
    "        for name, score1, score2, score3 in tuples_list]\n",
    "\n",
    "student_recs = [(\"Leena\", 66, 73, 90),\n",
    "    (\"Nora\", 90, 88, 100),('Lana', 80, 90, 89)]\n",
    "\n",
    "print(create_student_records(student_recs))"
   ]
  },
  {
   "cell_type": "markdown",
   "metadata": {},
   "source": [
    "### Task 2\n",
    "- Write a function named **'filter_and_sort_students'** that takes the list of dictionaries from Question 1 and returns a sorted list of student names who have an average score of 80 or more across all subjects. Sort the names in alphabetical order."
   ]
  },
  {
   "cell_type": "code",
   "execution_count": 18,
   "metadata": {},
   "outputs": [
    {
     "name": "stdout",
     "output_type": "stream",
     "text": [
      "['Lana', 'Nora']\n"
     ]
    }
   ],
   "source": [
    "def filter_and_sort_students(student_recs):\n",
    "    filtered_students = []\n",
    "    \n",
    "    for student in student_recs:\n",
    "        avg_score = (student['subject1'] + student['subject2'] + student['subject3']) / 3\n",
    "        if avg_score >= 80:\n",
    "            filtered_students.append(student['name'])\n",
    "    \n",
    "    return sorted(filtered_students)\n",
    "\n",
    "print(filter_and_sort_students(records))"
   ]
  },
  {
   "cell_type": "markdown",
   "metadata": {},
   "source": [
    "### Task 3\n",
    "- Write a function named **'get_product_info'** that prompts the user to enter information about a product. The function should ask for the product name, product price, and product quantity. If the user enters an invalid input (e.g., a non-numeric value for the price or quantity), the function should handle the error and prompt the user to enter the value again. Return a dictionary containing the product information."
   ]
  },
  {
   "cell_type": "code",
   "execution_count": 20,
   "metadata": {},
   "outputs": [
    {
     "name": "stdout",
     "output_type": "stream",
     "text": [
      "{'name': 'a', 'price': 3.0, 'quantity': 4}\n"
     ]
    }
   ],
   "source": [
    "def get_product_info():\n",
    "    product_info = {}\n",
    "    \n",
    "    while True:\n",
    "        product_info['name'] = input(\"Enter the product name here: \")\n",
    "        \n",
    "        try:\n",
    "            product_info['price'] = float(input(\"Enter the product price here: \"))\n",
    "            product_info['quantity'] = int(input(\"Enter the product quantity here: \"))\n",
    "            break\n",
    "\n",
    "        except ValueError:\n",
    "            print(\"Please enter valid numeric values for price and quantity.\")\n",
    "    \n",
    "    return product_info\n",
    "\n",
    "\n",
    "print(get_product_info())"
   ]
  },
  {
   "cell_type": "markdown",
   "metadata": {},
   "source": [
    "### Task 4\n",
    "- Write a function named **'get_even_numbers'** that takes a list of integers and returns a list of even numbers using list comprehension."
   ]
  },
  {
   "cell_type": "code",
   "execution_count": 24,
   "metadata": {},
   "outputs": [
    {
     "name": "stdout",
     "output_type": "stream",
     "text": [
      "[24, 4, 88]\n"
     ]
    }
   ],
   "source": [
    "def get_even_numbers(evens):\n",
    "    return [num for num in evens if num % 2 == 0]\n",
    "\n",
    "even_numbs = get_even_numbers([45, 87, 24, 4, 23, 88])\n",
    "print(even_numbs)"
   ]
  },
  {
   "cell_type": "markdown",
   "metadata": {},
   "source": [
    "### Task 5\n",
    "- Write a function named **'pair_elements'** that takes two lists of equal length as parameters and returns a list of tuples, where each tuple contains corresponding elements from the two lists. Use the zip function to achieve this."
   ]
  },
  {
   "cell_type": "code",
   "execution_count": 26,
   "metadata": {},
   "outputs": [
    {
     "name": "stdout",
     "output_type": "stream",
     "text": [
      "[('M', 32), ('N', 56), ('R', 49)]\n"
     ]
    }
   ],
   "source": [
    "def pair_elements(lst1, lst2):\n",
    "    return list(zip(lst1, lst2))\n",
    "pairs = pair_elements(['M', 'N', 'R'], [32,56,49])\n",
    "print(pairs)"
   ]
  },
  {
   "cell_type": "markdown",
   "metadata": {},
   "source": [
    "### Task 6\n",
    "- Write a function named **'square_dict_lambda'** that takes a list of integers and returns a dictionary where the keys are the integers and the values are their squares. Use a lambda function within a dictionary comprehension to achieve this."
   ]
  },
  {
   "cell_type": "code",
   "execution_count": 31,
   "metadata": {},
   "outputs": [
    {
     "name": "stdout",
     "output_type": "stream",
     "text": [
      "{1: 1, 2: 4, 3: 9, 4: 16, 5: 25}\n"
     ]
    }
   ],
   "source": [
    "def square_dict_lambda(lst):\n",
    "    return {num: num ** 2 for num in lst}\n",
    "squared = square_dict_lambda([1, 2, 3, 4, 5])\n",
    "print(squared)"
   ]
  }
 ],
 "metadata": {
  "kernelspec": {
   "display_name": "base",
   "language": "python",
   "name": "python3"
  },
  "language_info": {
   "codemirror_mode": {
    "name": "ipython",
    "version": 3
   },
   "file_extension": ".py",
   "mimetype": "text/x-python",
   "name": "python",
   "nbconvert_exporter": "python",
   "pygments_lexer": "ipython3",
   "version": "3.9.7"
  }
 },
 "nbformat": 4,
 "nbformat_minor": 2
}
